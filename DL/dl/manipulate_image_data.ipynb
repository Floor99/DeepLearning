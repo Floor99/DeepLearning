{
 "cells": [
  {
   "cell_type": "code",
   "execution_count": 1,
   "metadata": {},
   "outputs": [],
   "source": [
    "# Import packages\n",
    "import os\n",
    "import shutil"
   ]
  },
  {
   "cell_type": "code",
   "execution_count": 2,
   "metadata": {},
   "outputs": [],
   "source": [
    "# The selected categories\n",
    "nine_categories = [\"Apple\", \"Cherry\", \"Corn\", \"Grape\", \"Peach\", \"Pepper\", \"Potato\", \"Strawberry\", \"Tomato\"]\n",
    "\n",
    "# Create new directories (healthy and diseased) for selected categories\n",
    "# Destination directory\n",
    "dest_directory = \"data/manipulated/\"\n",
    "\n",
    "# Make healthy and diseased directories\n",
    "for category in nine_categories:\n",
    "    category_name = category.split(\"__\")[0]\n",
    "    dict_for_healthy_category = os.makedirs(f\"{dest_directory}Healthy_{category_name}\", exist_ok=True)\n",
    "    dict_for_diseased_category = os.makedirs(f\"{dest_directory}Diseased_{category_name}\", exist_ok=True)"
   ]
  },
  {
   "cell_type": "code",
   "execution_count": 4,
   "metadata": {},
   "outputs": [],
   "source": [
    "# Source directory\n",
    "src_directory = \"data/raw/color/\"\n",
    "\n",
    "# Get all folders in source directory\n",
    "for folder in os.listdir(src_directory):\n",
    "    for category in nine_categories:\n",
    "        # Check whether category (of nine categories) in folder name\n",
    "        if category in folder:\n",
    "            category_name = category.split(\"__\")[0]\n",
    "            # Check if healthy in folder name\n",
    "            # If yes, add this files to healthy_category folder\n",
    "            if 'healthy' in folder:\n",
    "                destination_folder_healthy = str(f\"{dest_directory}Healthy_{category_name}\")\n",
    "                for file in os.listdir(os.path.join(src_directory, folder)):\n",
    "                    if file not in destination_folder_healthy:\n",
    "                        file = os.path.join(src_directory, folder, file)\n",
    "                        shutil.copy(file, destination_folder_healthy)\n",
    "            # If no, add this files to diseased_category folder  \n",
    "            else:\n",
    "                destination_folder_diseased = f\"{dest_directory}/Diseased_{category_name}\"\n",
    "                for file in os.listdir(os.path.join(src_directory, folder)):\n",
    "                    if file not in destination_folder_diseased:\n",
    "                        file = os.path.join(src_directory, folder, file)\n",
    "                        shutil.copy(file, destination_folder_diseased)            "
   ]
  }
 ],
 "metadata": {
  "kernelspec": {
   "display_name": ".venv",
   "language": "python",
   "name": "python3"
  },
  "language_info": {
   "codemirror_mode": {
    "name": "ipython",
    "version": 3
   },
   "file_extension": ".py",
   "mimetype": "text/x-python",
   "name": "python",
   "nbconvert_exporter": "python",
   "pygments_lexer": "ipython3",
   "version": "3.11.5"
  }
 },
 "nbformat": 4,
 "nbformat_minor": 2
}
